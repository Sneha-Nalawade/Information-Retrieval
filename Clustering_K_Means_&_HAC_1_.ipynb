{
  "nbformat": 4,
  "nbformat_minor": 0,
  "metadata": {
    "colab": {
      "provenance": []
    },
    "kernelspec": {
      "name": "python3",
      "display_name": "Python 3"
    },
    "language_info": {
      "name": "python"
    }
  },
  "cells": [
    {
      "cell_type": "code",
      "execution_count": null,
      "metadata": {
        "colab": {
          "base_uri": "https://localhost:8080/"
        },
        "id": "6IqDGsPwCs-f",
        "outputId": "e42ea8f5-a084-48a4-b198-1fcd3513a19a"
      },
      "outputs": [
        {
          "output_type": "stream",
          "name": "stderr",
          "text": [
            "[nltk_data] Downloading package reuters to /root/nltk_data...\n",
            "[nltk_data]   Package reuters is already up-to-date!\n"
          ]
        },
        {
          "output_type": "execute_result",
          "data": {
            "text/plain": [
              "True"
            ]
          },
          "metadata": {},
          "execution_count": 2
        }
      ],
      "source": [
        "# Install necessary libraries\n",
        "# !pip install nltk scikit-learn\n",
        "\n",
        "import nltk\n",
        "from nltk.corpus import reuters\n",
        "from sklearn.feature_extraction.text import TfidfVectorizer\n",
        "import pandas as pd\n",
        "\n",
        "# Download Reuters-21578 dataset\n",
        "nltk.download('reuters')\n",
        "\n",
        "\n"
      ]
    },
    {
      "cell_type": "code",
      "source": [
        "# Define classes of interest\n",
        "classes_of_interest = ['acq', 'corn', 'crude', 'earn', 'grain', 'interest', 'money-fx', 'ship', 'trade', 'wheat']\n",
        "\n",
        "# Filter documents based on categories\n",
        "documents = []\n",
        "for category in classes_of_interest:\n",
        "    category_docs = reuters.fileids(category)\n",
        "    documents.extend([(doc_id, reuters.raw(doc_id)) for doc_id in category_docs])\n",
        "\n",
        "df = pd.DataFrame(documents, columns=['Doc_ID', 'Content'])\n"
      ],
      "metadata": {
        "id": "L2sze7L4FXVU"
      },
      "execution_count": null,
      "outputs": []
    },
    {
      "cell_type": "code",
      "source": [
        "print(df)"
      ],
      "metadata": {
        "colab": {
          "base_uri": "https://localhost:8080/"
        },
        "id": "W2yziqSgFa1H",
        "outputId": "53d35973-5b77-46c6-f7aa-19c9e66dcef5"
      },
      "execution_count": null,
      "outputs": [
        {
          "output_type": "stream",
          "name": "stdout",
          "text": [
            "             Doc_ID                                            Content\n",
            "0        test/14843  SUMITOMO BANK AIMS AT QUICK RECOVERY FROM MERG...\n",
            "1        test/14852  BOND CORP STILL CONSIDERING ATLAS MINING BAIL-...\n",
            "2        test/14865  CRA SOLD FORREST GOLD FOR 76 MLN DLRS - WHIM C...\n",
            "3        test/14888  ANHEUSER-BUSCH JOINS BID FOR SAN MIGUEL\\n  Anh...\n",
            "4        test/14900  MONIER SAYS BRITAIN'S REDLAND MAY BID FOR IT\\n...\n",
            "...             ...                                                ...\n",
            "9974    training/97  ASCS TERMINAL MARKET VALUES FOR PIK GRAIN\\n  T...\n",
            "9975  training/9773  IWC lifts 1986/87 world wheat, coarse grain es...\n",
            "9976  training/9782  IWC LIFTS WORLD GRAIN OUTPUT ESTIMATE TO RECOR...\n",
            "9977  training/9793  IWC SAYS EFFECT OF LOWER SUPPORT PRICES LIMITE...\n",
            "9978  training/9865  FRENCH FREE MARKET CEREAL EXPORT BIDS DETAILED...\n",
            "\n",
            "[9979 rows x 2 columns]\n"
          ]
        }
      ]
    },
    {
      "cell_type": "code",
      "source": [
        "# # Define classes of interest\n",
        "# classes_of_interest = ['acq', 'corn', 'crude', 'earn', 'grain', 'interest', 'money-fx', 'ship', 'trade', 'wheat']\n",
        "\n",
        "# # Filter documents based on classes\n",
        "# documents = [(doc_id, reuters.raw(doc_id)) for doc_id in reuters.fileids(classes=classes_of_interest)]\n",
        "# df = pd.DataFrame(documents, columns=['Doc_ID', 'Content'])"
      ],
      "metadata": {
        "colab": {
          "base_uri": "https://localhost:8080/",
          "height": 236
        },
        "id": "cQt9oemKEDLw",
        "outputId": "112ca1ed-3e9e-4541-b70b-4ef6e93b2a53"
      },
      "execution_count": null,
      "outputs": [
        {
          "output_type": "error",
          "ename": "TypeError",
          "evalue": "ignored",
          "traceback": [
            "\u001b[0;31m---------------------------------------------------------------------------\u001b[0m",
            "\u001b[0;31mTypeError\u001b[0m                                 Traceback (most recent call last)",
            "\u001b[0;32m<ipython-input-3-7b1791590452>\u001b[0m in \u001b[0;36m<cell line: 5>\u001b[0;34m()\u001b[0m\n\u001b[1;32m      3\u001b[0m \u001b[0;34m\u001b[0m\u001b[0m\n\u001b[1;32m      4\u001b[0m \u001b[0;31m# Filter documents based on classes\u001b[0m\u001b[0;34m\u001b[0m\u001b[0;34m\u001b[0m\u001b[0m\n\u001b[0;32m----> 5\u001b[0;31m \u001b[0mdocuments\u001b[0m \u001b[0;34m=\u001b[0m \u001b[0;34m[\u001b[0m\u001b[0;34m(\u001b[0m\u001b[0mdoc_id\u001b[0m\u001b[0;34m,\u001b[0m \u001b[0mreuters\u001b[0m\u001b[0;34m.\u001b[0m\u001b[0mraw\u001b[0m\u001b[0;34m(\u001b[0m\u001b[0mdoc_id\u001b[0m\u001b[0;34m)\u001b[0m\u001b[0;34m)\u001b[0m \u001b[0;32mfor\u001b[0m \u001b[0mdoc_id\u001b[0m \u001b[0;32min\u001b[0m \u001b[0mreuters\u001b[0m\u001b[0;34m.\u001b[0m\u001b[0mfileids\u001b[0m\u001b[0;34m(\u001b[0m\u001b[0mclasses\u001b[0m\u001b[0;34m=\u001b[0m\u001b[0mclasses_of_interest\u001b[0m\u001b[0;34m)\u001b[0m\u001b[0;34m]\u001b[0m\u001b[0;34m\u001b[0m\u001b[0;34m\u001b[0m\u001b[0m\n\u001b[0m\u001b[1;32m      6\u001b[0m \u001b[0mdf\u001b[0m \u001b[0;34m=\u001b[0m \u001b[0mpd\u001b[0m\u001b[0;34m.\u001b[0m\u001b[0mDataFrame\u001b[0m\u001b[0;34m(\u001b[0m\u001b[0mdocuments\u001b[0m\u001b[0;34m,\u001b[0m \u001b[0mcolumns\u001b[0m\u001b[0;34m=\u001b[0m\u001b[0;34m[\u001b[0m\u001b[0;34m'Doc_ID'\u001b[0m\u001b[0;34m,\u001b[0m \u001b[0;34m'Content'\u001b[0m\u001b[0;34m]\u001b[0m\u001b[0;34m)\u001b[0m\u001b[0;34m\u001b[0m\u001b[0;34m\u001b[0m\u001b[0m\n",
            "\u001b[0;31mTypeError\u001b[0m: CategorizedCorpusReader.fileids() got an unexpected keyword argument 'classes'"
          ]
        }
      ]
    },
    {
      "cell_type": "code",
      "source": [
        "from sklearn.feature_extraction.text import TfidfVectorizer\n",
        "from sklearn.cluster import KMeans\n",
        "from sklearn import metrics\n",
        "\n",
        "# Vectorize the documents\n",
        "vectorizer = TfidfVectorizer(stop_words='english')\n",
        "X = vectorizer.fit_transform(df['Content'])\n",
        "\n",
        "# Apply K-means clustering\n",
        "kmeans = KMeans(n_clusters=10, random_state=42)\n",
        "df['Cluster'] = kmeans.fit_predict(X)\n"
      ],
      "metadata": {
        "id": "inMivNZ7DJ-U"
      },
      "execution_count": null,
      "outputs": []
    },
    {
      "cell_type": "code",
      "source": [
        "from sklearn.metrics import accuracy_score, normalized_mutual_info_score, f1_score, adjusted_rand_score\n",
        "\n",
        "# Evaluate the clustering\n",
        "purity = accuracy_score(df['Cluster'], df['True_Label'])  # Adjust 'True_Label' based on your ground truth\n",
        "nmi = normalized_mutual_info_score(df['True_Label'], df['Cluster'])\n",
        "f1 = f1_score(df['True_Label'], df['Cluster'], average='weighted')\n",
        "ri = adjusted_rand_score(df['True_Label'], df['Cluster'])\n"
      ],
      "metadata": {
        "id": "xyvf0-2rDN9P"
      },
      "execution_count": null,
      "outputs": []
    },
    {
      "cell_type": "code",
      "source": [
        "from sklearn.metrics import confusion_matrix\n",
        "import seaborn as sns\n",
        "import matplotlib.pyplot as plt\n",
        "\n",
        "# Compute confusion matrix\n",
        "conf_matrix = confusion_matrix(df['True_Label'], df['Cluster'])\n",
        "\n",
        "# Visualize confusion matrix\n",
        "plt.figure(figsize=(10, 8))\n",
        "sns.heatmap(conf_matrix, annot=True, fmt='d', cmap='Blues', xticklabels=classes_of_interest, yticklabels=classes_of_interest)\n",
        "plt.title('Confusion Matrix')\n",
        "plt.xlabel('Predicted Label')\n",
        "plt.ylabel('True Label')\n",
        "plt.show()\n"
      ],
      "metadata": {
        "id": "6aIHSEkMDRJH"
      },
      "execution_count": null,
      "outputs": []
    }
  ]
}