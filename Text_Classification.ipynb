{
  "nbformat": 4,
  "nbformat_minor": 0,
  "metadata": {
    "colab": {
      "provenance": []
    },
    "kernelspec": {
      "name": "python3",
      "display_name": "Python 3"
    },
    "language_info": {
      "name": "python"
    }
  },
  "cells": [
    {
      "cell_type": "code",
      "execution_count": null,
      "metadata": {
        "colab": {
          "base_uri": "https://localhost:8080/"
        },
        "id": "dnNgAwnjE6qJ",
        "outputId": "55ac8f9e-3434-492f-bd01-0ad07a0fc300"
      },
      "outputs": [
        {
          "output_type": "stream",
          "name": "stderr",
          "text": [
            "[nltk_data] Downloading package punkt to /root/nltk_data...\n",
            "[nltk_data]   Unzipping tokenizers/punkt.zip.\n"
          ]
        },
        {
          "output_type": "execute_result",
          "data": {
            "text/plain": [
              "True"
            ]
          },
          "metadata": {},
          "execution_count": 3
        }
      ],
      "source": [
        "# Import necessary libraries\n",
        "from sklearn.datasets import fetch_20newsgroups\n",
        "from sklearn.feature_extraction.text import TfidfVectorizer\n",
        "from sklearn.model_selection import train_test_split\n",
        "from sklearn.naive_bayes import MultinomialNB\n",
        "from sklearn.neighbors import NearestCentroid, KNeighborsClassifier\n",
        "from sklearn import metrics\n",
        "import nltk\n",
        "from nltk.stem import PorterStemmer\n",
        "nltk.download('punkt')  # Download the required dataset for tokenization\n"
      ]
    },
    {
      "cell_type": "code",
      "source": [
        "# Load the 20 Newsgroups dataset and remove headers, footers, and quotes\n",
        "newsgroups = fetch_20newsgroups(subset='all', remove=('headers', 'footers', 'quotes'))"
      ],
      "metadata": {
        "id": "ELwXnMeAFY5N"
      },
      "execution_count": null,
      "outputs": []
    },
    {
      "cell_type": "code",
      "source": [
        "# Tokenization, stemming, and normalization\n",
        "stemmer = PorterStemmer()\n",
        "normalized_text = [' '.join([stemmer.stem(word.lower()) for word in nltk.word_tokenize(text)]) for text in newsgroups.data]\n"
      ],
      "metadata": {
        "id": "iYYllpIVFgyq"
      },
      "execution_count": null,
      "outputs": []
    },
    {
      "cell_type": "code",
      "source": [
        "print(normalized_text)"
      ],
      "metadata": {
        "id": "qxhnbNmfF17m",
        "colab": {
          "base_uri": "https://localhost:8080/"
        },
        "outputId": "2418f5fd-36e1-4f54-c569-93a5c5d95c40"
      },
      "execution_count": null,
      "outputs": [
        {
          "output_type": "stream",
          "name": "stderr",
          "text": [
            "IOPub data rate exceeded.\n",
            "The notebook server will temporarily stop sending output\n",
            "to the client in order to avoid crashing it.\n",
            "To change this limit, set the config variable\n",
            "`--NotebookApp.iopub_data_rate_limit`.\n",
            "\n",
            "Current values:\n",
            "NotebookApp.iopub_data_rate_limit=1000000.0 (bytes/sec)\n",
            "NotebookApp.rate_limit_window=3.0 (secs)\n",
            "\n"
          ]
        }
      ]
    },
    {
      "cell_type": "code",
      "source": [
        "# TF-IDF Vectorization\n",
        "vectorizer = TfidfVectorizer(stop_words='english', max_features=1000)\n",
        "X = vectorizer.fit_transform(normalized_text)\n",
        "y = newsgroups.target"
      ],
      "metadata": {
        "id": "WXyELU77GIJa"
      },
      "execution_count": null,
      "outputs": []
    },
    {
      "cell_type": "code",
      "source": [
        "# Split the dataset into training and testing sets\n",
        "X_train, X_test, y_train, y_test = train_test_split(X, y, test_size=0.2, random_state=42)"
      ],
      "metadata": {
        "id": "NqlkVhIsGPCd"
      },
      "execution_count": null,
      "outputs": []
    },
    {
      "cell_type": "code",
      "source": [
        "print(X_train)"
      ],
      "metadata": {
        "id": "bUWidfD7GTyo",
        "colab": {
          "base_uri": "https://localhost:8080/"
        },
        "outputId": "8a3263f9-0de5-4936-b7ff-d3c8f63ced6e"
      },
      "execution_count": null,
      "outputs": [
        {
          "output_type": "stream",
          "name": "stdout",
          "text": [
            "  (0, 612)\t0.20631160511800054\n",
            "  (0, 260)\t0.21685054201354217\n",
            "  (0, 535)\t0.339695468323103\n",
            "  (0, 553)\t0.1561504720747878\n",
            "  (0, 543)\t0.3123662102528663\n",
            "  (0, 981)\t0.3158989866487395\n",
            "  (0, 239)\t0.16556903668583486\n",
            "  (0, 216)\t0.3333650621488756\n",
            "  (0, 422)\t0.3289678964071237\n",
            "  (0, 72)\t0.19357351236498738\n",
            "  (0, 274)\t0.19804651623077338\n",
            "  (0, 270)\t0.1514312669226887\n",
            "  (0, 954)\t0.1376601410595186\n",
            "  (0, 805)\t0.16882483577974217\n",
            "  (0, 776)\t0.13513852924214223\n",
            "  (0, 671)\t0.1511693197202127\n",
            "  (0, 908)\t0.1511038911596793\n",
            "  (0, 955)\t0.12956809938828037\n",
            "  (0, 254)\t0.18909963649019362\n",
            "  (0, 498)\t0.10760914272089893\n",
            "  (0, 744)\t0.17883622726950155\n",
            "  (0, 694)\t0.13918678447785499\n",
            "  (1, 192)\t0.2489091152938963\n",
            "  (1, 189)\t0.2422164047238867\n",
            "  (1, 51)\t0.5344064245347159\n",
            "  :\t:\n",
            "  (15075, 739)\t0.06293092283983617\n",
            "  (15075, 927)\t0.08605229912062949\n",
            "  (15075, 162)\t0.06474206287404076\n",
            "  (15075, 567)\t0.25019989168077356\n",
            "  (15075, 990)\t0.06188734561433976\n",
            "  (15075, 953)\t0.2301338830877742\n",
            "  (15075, 640)\t0.04309128569442434\n",
            "  (15075, 505)\t0.07926394986898654\n",
            "  (15075, 536)\t0.05983974675379932\n",
            "  (15075, 465)\t0.057028364956185296\n",
            "  (15075, 291)\t0.10957835904222035\n",
            "  (15075, 484)\t0.08278650357046825\n",
            "  (15075, 144)\t0.04943591838932358\n",
            "  (15075, 419)\t0.06261687428759338\n",
            "  (15075, 878)\t0.06866488147060958\n",
            "  (15075, 801)\t0.06235468631708528\n",
            "  (15075, 463)\t0.1356511336138814\n",
            "  (15075, 504)\t0.04050148479361388\n",
            "  (15075, 426)\t0.11447117675350699\n",
            "  (15075, 908)\t0.14237233533472396\n",
            "  (15075, 457)\t0.06143324340167398\n",
            "  (15075, 305)\t0.04139896129475628\n",
            "  (15075, 524)\t0.05688634586246672\n",
            "  (15075, 502)\t0.06428698503272437\n",
            "  (15075, 97)\t0.03807947258725731\n"
          ]
        }
      ]
    },
    {
      "cell_type": "code",
      "source": [
        "# Train and Test the Naive Bayes Classifier\n",
        "nb_classifier = MultinomialNB()\n",
        "nb_classifier.fit(X_train, y_train)\n",
        "nb_predictions = nb_classifier.predict(X_test)\n",
        "nb_accuracy = metrics.accuracy_score(y_test, nb_predictions)\n",
        "print(\"Naive Bayes Accuracy:\", nb_accuracy)"
      ],
      "metadata": {
        "colab": {
          "base_uri": "https://localhost:8080/"
        },
        "id": "MGhGCECKK6DG",
        "outputId": "537ddeb9-cf57-448c-d003-81a3a1b60e0d"
      },
      "execution_count": null,
      "outputs": [
        {
          "output_type": "stream",
          "name": "stdout",
          "text": [
            "Naive Bayes Accuracy: 0.5809018567639257\n"
          ]
        }
      ]
    },
    {
      "cell_type": "code",
      "source": [
        "# Train and Test the Rocchio Classifier\n",
        "rocchio_classifier = NearestCentroid()\n",
        "rocchio_classifier.fit(X_train, y_train)\n",
        "rocchio_predictions = rocchio_classifier.predict(X_test)\n",
        "rocchio_accuracy = metrics.accuracy_score(y_test, rocchio_predictions)\n",
        "print(\"Rocchio Accuracy:\", rocchio_accuracy)"
      ],
      "metadata": {
        "colab": {
          "base_uri": "https://localhost:8080/"
        },
        "id": "zBkTvfFOLoI5",
        "outputId": "1b0de942-3816-44eb-9495-f8ea114e4f8f"
      },
      "execution_count": null,
      "outputs": [
        {
          "output_type": "stream",
          "name": "stdout",
          "text": [
            "Rocchio Accuracy: 0.5376657824933687\n"
          ]
        }
      ]
    },
    {
      "cell_type": "code",
      "source": [
        "# Train and Test the k-Nearest Neighbor (k-NN) Classifier\n",
        "knn_classifier = KNeighborsClassifier(n_neighbors=5)  # You can adjust k as needed\n",
        "knn_classifier.fit(X_train, y_train)\n",
        "knn_predictions = knn_classifier.predict(X_test)\n",
        "knn_accuracy = metrics.accuracy_score(y_test, knn_predictions)\n",
        "print(\"k-NN Accuracy:\", knn_accuracy)"
      ],
      "metadata": {
        "colab": {
          "base_uri": "https://localhost:8080/"
        },
        "id": "sOw3I2GzL1cz",
        "outputId": "4a16b103-9082-46b0-ea12-81e75d2ef6a9"
      },
      "execution_count": null,
      "outputs": [
        {
          "output_type": "stream",
          "name": "stdout",
          "text": [
            "k-NN Accuracy: 0.19283819628647214\n"
          ]
        }
      ]
    },
    {
      "cell_type": "code",
      "source": [
        "from sklearn.metrics import f1_score\n",
        "\n",
        "# Calculate F1-scores for each classifier\n",
        "nb_f1 = f1_score(y_test, nb_predictions, average='weighted')\n",
        "rocchio_f1 = f1_score(y_test, rocchio_predictions, average='weighted')\n",
        "knn_f1 = f1_score(y_test, knn_predictions, average='weighted')\n",
        "\n",
        "# Print the F1-scores\n",
        "print(\"Naive Bayes F1-score:\", nb_f1)\n",
        "print(\"Rocchio F1-score:\", rocchio_f1)\n",
        "print(\"k-NN F1-score:\", knn_f1)"
      ],
      "metadata": {
        "colab": {
          "base_uri": "https://localhost:8080/"
        },
        "id": "BEPMWeCdMMTi",
        "outputId": "3a30520a-1c7f-4e90-e678-886c2bc67ab2"
      },
      "execution_count": null,
      "outputs": [
        {
          "output_type": "stream",
          "name": "stdout",
          "text": [
            "Naive Bayes F1-score: 0.5734506390013268\n",
            "Rocchio F1-score: 0.5528499670329711\n",
            "k-NN F1-score: 0.2448735718815814\n"
          ]
        }
      ]
    },
    {
      "cell_type": "code",
      "source": [
        "import matplotlib.pyplot as plt\n"
      ],
      "metadata": {
        "id": "3whew67cipjm"
      },
      "execution_count": null,
      "outputs": []
    },
    {
      "cell_type": "code",
      "source": [
        "classifiers = ['Naive Bayes', 'Rocchio', 'K-Nearest Neighbor']\n",
        "f_scores = [nb_f1, rocchio_f1, knn_f1]\n"
      ],
      "metadata": {
        "id": "VeZWKen-iwLh"
      },
      "execution_count": null,
      "outputs": []
    },
    {
      "cell_type": "code",
      "source": [
        "plt.figure(figsize=(10, 6))\n",
        "plt.bar(classifiers, f_scores, color=['blue', 'green', 'red'])\n",
        "plt.xlabel('Classifiers')\n",
        "plt.ylabel('F-Score')\n",
        "plt.title('Comparison of F-Scores for Different Classifiers')\n",
        "plt.ylim(0, 1)  # Set the y-axis limits as needed\n",
        "plt.show()\n"
      ],
      "metadata": {
        "colab": {
          "base_uri": "https://localhost:8080/",
          "height": 564
        },
        "id": "dXHW1E6Ii-Vz",
        "outputId": "d5326491-6233-4967-c9b0-01ce98ebe2cf"
      },
      "execution_count": null,
      "outputs": [
        {
          "output_type": "display_data",
          "data": {
            "text/plain": [
              "<Figure size 1000x600 with 1 Axes>"
            ],
            "image/png": "[encoded data removed]"
          },
          "metadata": {}
        }
      ]
    }
  ]
}