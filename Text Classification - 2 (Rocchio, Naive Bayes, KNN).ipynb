{
  "nbformat": 4,
  "nbformat_minor": 0,
  "metadata": {
    "colab": {
      "provenance": []
    },
    "kernelspec": {
      "name": "python3",
      "display_name": "Python 3"
    },
    "language_info": {
      "name": "python"
    }
  },
  "cells": [
    {
      "cell_type": "code",
      "execution_count": null,
      "metadata": {
        "id": "iiLTT5oC3RyY"
      },
      "outputs": [],
      "source": [
        "from sklearn.datasets import fetch_20newsgroups\n",
        "from sklearn.feature_extraction.text import TfidfVectorizer\n",
        "from sklearn.model_selection import train_test_split\n",
        "\n",
        "# Load the 20 Newsgroups dataset\n",
        "newsgroups = fetch_20newsgroups(subset='all', remove=('headers', 'footers', 'quotes'))\n",
        "\n",
        "# Preprocess the data\n",
        "vectorizer = TfidfVectorizer(stop_words='english', max_features=1000)\n",
        "X = vectorizer.fit_transform(newsgroups.data)\n",
        "y = newsgroups.target\n",
        "\n",
        "# Split the data into training and testing sets\n",
        "X_train, X_test, y_train, y_test = train_test_split(X, y, test_size=0.2, random_state=42)\n"
      ]
    },
    {
      "cell_type": "code",
      "source": [
        "from sklearn.naive_bayes import MultinomialNB\n",
        "from sklearn.metrics import f1_score\n",
        "\n",
        "# Train a Naive Bayes classifier\n",
        "nb_classifier = MultinomialNB()\n",
        "nb_classifier.fit(X_train, y_train)\n",
        "\n",
        "# Predict on the test set\n",
        "nb_predictions = nb_classifier.predict(X_test)\n",
        "\n",
        "# Calculate F-score\n",
        "nb_f1_score = f1_score(y_test, nb_predictions, average='weighted')\n",
        "print(f\"F1-score for Naive Bayes Classifier: {nb_f1_score:.4f}\")\n"
      ],
      "metadata": {
        "colab": {
          "base_uri": "https://localhost:8080/"
        },
        "id": "lqK8_0sa3axX",
        "outputId": "d3ebe09c-5fc2-471c-a62d-d3aa4334be13"
      },
      "execution_count": null,
      "outputs": [
        {
          "output_type": "stream",
          "name": "stdout",
          "text": [
            "F1-score for Naive Bayes Classifier: 0.5591\n"
          ]
        }
      ]
    },
    {
      "cell_type": "code",
      "source": [
        "from sklearn.neighbors import NearestCentroid\n",
        "\n",
        "# Train a Rocchio classifier\n",
        "rocchio_classifier = NearestCentroid()\n",
        "rocchio_classifier.fit(X_train, y_train)\n",
        "\n",
        "# Predict on the test set\n",
        "rocchio_predictions = rocchio_classifier.predict(X_test)\n",
        "\n",
        "# Calculate F-score\n",
        "rocchio_f1_score = f1_score(y_test, rocchio_predictions, average='weighted')\n",
        "print(f\"F1-score for Rocchio Classifier: {rocchio_f1_score:.4f}\")\n"
      ],
      "metadata": {
        "colab": {
          "base_uri": "https://localhost:8080/"
        },
        "id": "RvyZka2G3o-q",
        "outputId": "8713bcc6-0ead-4299-d32c-2129f0e1ba77"
      },
      "execution_count": null,
      "outputs": [
        {
          "output_type": "stream",
          "name": "stdout",
          "text": [
            "F1-score for Rocchio Classifier: 0.5302\n"
          ]
        }
      ]
    },
    {
      "cell_type": "code",
      "source": [
        "from sklearn.neighbors import KNeighborsClassifier\n",
        "\n",
        "# Train a K-Nearest Neighbor classifier\n",
        "knn_classifier = KNeighborsClassifier(n_neighbors=5)\n",
        "knn_classifier.fit(X_train, y_train)\n",
        "\n",
        "# Predict on the test set\n",
        "knn_predictions = knn_classifier.predict(X_test)\n",
        "\n",
        "# Calculate F-score\n",
        "knn_f1_score = f1_score(y_test, knn_predictions, average='weighted')\n",
        "print(f\"F1-score for K-Nearest Neighbor Classifier: {knn_f1_score:.4f}\")\n"
      ],
      "metadata": {
        "colab": {
          "base_uri": "https://localhost:8080/"
        },
        "id": "CJwiUFI73tJx",
        "outputId": "f0d64f43-060d-4513-f00b-759a5bfa837a"
      },
      "execution_count": null,
      "outputs": [
        {
          "output_type": "stream",
          "name": "stdout",
          "text": [
            "F1-score for K-Nearest Neighbor Classifier: 0.2317\n"
          ]
        }
      ]
    },
    {
      "cell_type": "code",
      "source": [
        "# Compare F-scores\n",
        "print(f\"\\nComparison of Classifiers:\")\n",
        "print(f\"Naive Bayes Classifier F1-score: {nb_f1_score:.4f}\")\n",
        "print(f\"Rocchio Classifier F1-score: {rocchio_f1_score:.4f}\")\n",
        "print(f\"K-Nearest Neighbor Classifier F1-score: {knn_f1_score:.4f}\")\n"
      ],
      "metadata": {
        "colab": {
          "base_uri": "https://localhost:8080/"
        },
        "id": "_6O4xPJ23wlE",
        "outputId": "90f3dbc4-663d-45eb-ef7e-1369c869b659"
      },
      "execution_count": null,
      "outputs": [
        {
          "output_type": "stream",
          "name": "stdout",
          "text": [
            "\n",
            "Comparison of Classifiers:\n",
            "Naive Bayes Classifier F1-score: 0.5591\n",
            "Rocchio Classifier F1-score: 0.5302\n",
            "K-Nearest Neighbor Classifier F1-score: 0.2317\n"
          ]
        }
      ]
    },
    {
      "cell_type": "code",
      "source": [],
      "metadata": {
        "id": "l1se161b4CIN"
      },
      "execution_count": null,
      "outputs": []
    }
  ]
}